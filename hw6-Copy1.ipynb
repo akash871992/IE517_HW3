{
 "cells": [
  {
   "cell_type": "code",
   "execution_count": 44,
   "metadata": {},
   "outputs": [
    {
     "data": {
      "text/html": [
       "<div>\n",
       "<style scoped>\n",
       "    .dataframe tbody tr th:only-of-type {\n",
       "        vertical-align: middle;\n",
       "    }\n",
       "\n",
       "    .dataframe tbody tr th {\n",
       "        vertical-align: top;\n",
       "    }\n",
       "\n",
       "    .dataframe thead th {\n",
       "        text-align: right;\n",
       "    }\n",
       "</style>\n",
       "<table border=\"1\" class=\"dataframe\">\n",
       "  <thead>\n",
       "    <tr style=\"text-align: right;\">\n",
       "      <th></th>\n",
       "      <th>ID</th>\n",
       "      <th>LIMIT_BAL</th>\n",
       "      <th>SEX</th>\n",
       "      <th>EDUCATION</th>\n",
       "      <th>MARRIAGE</th>\n",
       "      <th>AGE</th>\n",
       "      <th>PAY_0</th>\n",
       "      <th>PAY_2</th>\n",
       "      <th>PAY_3</th>\n",
       "      <th>PAY_4</th>\n",
       "      <th>...</th>\n",
       "      <th>BILL_AMT4</th>\n",
       "      <th>BILL_AMT5</th>\n",
       "      <th>BILL_AMT6</th>\n",
       "      <th>PAY_AMT1</th>\n",
       "      <th>PAY_AMT2</th>\n",
       "      <th>PAY_AMT3</th>\n",
       "      <th>PAY_AMT4</th>\n",
       "      <th>PAY_AMT5</th>\n",
       "      <th>PAY_AMT6</th>\n",
       "      <th>DEFAULT</th>\n",
       "    </tr>\n",
       "  </thead>\n",
       "  <tbody>\n",
       "    <tr>\n",
       "      <th>0</th>\n",
       "      <td>1</td>\n",
       "      <td>20000</td>\n",
       "      <td>2</td>\n",
       "      <td>2</td>\n",
       "      <td>1</td>\n",
       "      <td>24</td>\n",
       "      <td>2</td>\n",
       "      <td>2</td>\n",
       "      <td>-1</td>\n",
       "      <td>-1</td>\n",
       "      <td>...</td>\n",
       "      <td>0</td>\n",
       "      <td>0</td>\n",
       "      <td>0</td>\n",
       "      <td>0</td>\n",
       "      <td>689</td>\n",
       "      <td>0</td>\n",
       "      <td>0</td>\n",
       "      <td>0</td>\n",
       "      <td>0</td>\n",
       "      <td>1</td>\n",
       "    </tr>\n",
       "    <tr>\n",
       "      <th>1</th>\n",
       "      <td>2</td>\n",
       "      <td>120000</td>\n",
       "      <td>2</td>\n",
       "      <td>2</td>\n",
       "      <td>2</td>\n",
       "      <td>26</td>\n",
       "      <td>-1</td>\n",
       "      <td>2</td>\n",
       "      <td>0</td>\n",
       "      <td>0</td>\n",
       "      <td>...</td>\n",
       "      <td>3272</td>\n",
       "      <td>3455</td>\n",
       "      <td>3261</td>\n",
       "      <td>0</td>\n",
       "      <td>1000</td>\n",
       "      <td>1000</td>\n",
       "      <td>1000</td>\n",
       "      <td>0</td>\n",
       "      <td>2000</td>\n",
       "      <td>1</td>\n",
       "    </tr>\n",
       "    <tr>\n",
       "      <th>2</th>\n",
       "      <td>3</td>\n",
       "      <td>90000</td>\n",
       "      <td>2</td>\n",
       "      <td>2</td>\n",
       "      <td>2</td>\n",
       "      <td>34</td>\n",
       "      <td>0</td>\n",
       "      <td>0</td>\n",
       "      <td>0</td>\n",
       "      <td>0</td>\n",
       "      <td>...</td>\n",
       "      <td>14331</td>\n",
       "      <td>14948</td>\n",
       "      <td>15549</td>\n",
       "      <td>1518</td>\n",
       "      <td>1500</td>\n",
       "      <td>1000</td>\n",
       "      <td>1000</td>\n",
       "      <td>1000</td>\n",
       "      <td>5000</td>\n",
       "      <td>0</td>\n",
       "    </tr>\n",
       "    <tr>\n",
       "      <th>3</th>\n",
       "      <td>4</td>\n",
       "      <td>50000</td>\n",
       "      <td>2</td>\n",
       "      <td>2</td>\n",
       "      <td>1</td>\n",
       "      <td>37</td>\n",
       "      <td>0</td>\n",
       "      <td>0</td>\n",
       "      <td>0</td>\n",
       "      <td>0</td>\n",
       "      <td>...</td>\n",
       "      <td>28314</td>\n",
       "      <td>28959</td>\n",
       "      <td>29547</td>\n",
       "      <td>2000</td>\n",
       "      <td>2019</td>\n",
       "      <td>1200</td>\n",
       "      <td>1100</td>\n",
       "      <td>1069</td>\n",
       "      <td>1000</td>\n",
       "      <td>0</td>\n",
       "    </tr>\n",
       "    <tr>\n",
       "      <th>4</th>\n",
       "      <td>5</td>\n",
       "      <td>50000</td>\n",
       "      <td>1</td>\n",
       "      <td>2</td>\n",
       "      <td>1</td>\n",
       "      <td>57</td>\n",
       "      <td>-1</td>\n",
       "      <td>0</td>\n",
       "      <td>-1</td>\n",
       "      <td>0</td>\n",
       "      <td>...</td>\n",
       "      <td>20940</td>\n",
       "      <td>19146</td>\n",
       "      <td>19131</td>\n",
       "      <td>2000</td>\n",
       "      <td>36681</td>\n",
       "      <td>10000</td>\n",
       "      <td>9000</td>\n",
       "      <td>689</td>\n",
       "      <td>679</td>\n",
       "      <td>0</td>\n",
       "    </tr>\n",
       "  </tbody>\n",
       "</table>\n",
       "<p>5 rows × 25 columns</p>\n",
       "</div>"
      ],
      "text/plain": [
       "   ID  LIMIT_BAL  SEX  EDUCATION  MARRIAGE  AGE  PAY_0  PAY_2  PAY_3  PAY_4  \\\n",
       "0   1      20000    2          2         1   24      2      2     -1     -1   \n",
       "1   2     120000    2          2         2   26     -1      2      0      0   \n",
       "2   3      90000    2          2         2   34      0      0      0      0   \n",
       "3   4      50000    2          2         1   37      0      0      0      0   \n",
       "4   5      50000    1          2         1   57     -1      0     -1      0   \n",
       "\n",
       "   ...  BILL_AMT4  BILL_AMT5  BILL_AMT6  PAY_AMT1  PAY_AMT2  PAY_AMT3  \\\n",
       "0  ...          0          0          0         0       689         0   \n",
       "1  ...       3272       3455       3261         0      1000      1000   \n",
       "2  ...      14331      14948      15549      1518      1500      1000   \n",
       "3  ...      28314      28959      29547      2000      2019      1200   \n",
       "4  ...      20940      19146      19131      2000     36681     10000   \n",
       "\n",
       "   PAY_AMT4  PAY_AMT5  PAY_AMT6  DEFAULT  \n",
       "0         0         0         0        1  \n",
       "1      1000         0      2000        1  \n",
       "2      1000      1000      5000        0  \n",
       "3      1100      1069      1000        0  \n",
       "4      9000       689       679        0  \n",
       "\n",
       "[5 rows x 25 columns]"
      ]
     },
     "execution_count": 44,
     "metadata": {},
     "output_type": "execute_result"
    }
   ],
   "source": [
    "import pandas as pd\n",
    "import matplotlib.pyplot as plt\n",
    "df = pd.read_csv('ccdefault.csv')\n",
    "df.head()"
   ]
  },
  {
   "cell_type": "code",
   "execution_count": 47,
   "metadata": {},
   "outputs": [
    {
     "name": "stdout",
     "output_type": "stream",
     "text": [
      "Out of sample Accuracy for Decision Tree classifier with max depth 5 in Credit Default Dataset\n",
      "0.8223333333333334\n",
      "In sample Accuracy for Decision Tree classifier with max depth 5 in Credit Default dataset\n",
      "0.8246296296296296\n",
      "Out of sample Accuracy for Decision Tree classifier with max depth 5 in Credit Default Dataset\n",
      "0.825\n",
      "In sample Accuracy for Decision Tree classifier with max depth 5 in Credit Default dataset\n",
      "0.8243333333333334\n",
      "Out of sample Accuracy for Decision Tree classifier with max depth 5 in Credit Default Dataset\n",
      "0.8353333333333334\n",
      "In sample Accuracy for Decision Tree classifier with max depth 5 in Credit Default dataset\n",
      "0.8233333333333334\n",
      "Out of sample Accuracy for Decision Tree classifier with max depth 5 in Credit Default Dataset\n",
      "0.81\n",
      "In sample Accuracy for Decision Tree classifier with max depth 5 in Credit Default dataset\n",
      "0.8250740740740741\n",
      "Out of sample Accuracy for Decision Tree classifier with max depth 5 in Credit Default Dataset\n",
      "0.8296666666666667\n",
      "In sample Accuracy for Decision Tree classifier with max depth 5 in Credit Default dataset\n",
      "0.8237777777777778\n",
      "Out of sample Accuracy for Decision Tree classifier with max depth 5 in Credit Default Dataset\n",
      "0.8103333333333333\n",
      "In sample Accuracy for Decision Tree classifier with max depth 5 in Credit Default dataset\n",
      "0.8252592592592592\n",
      "Out of sample Accuracy for Decision Tree classifier with max depth 5 in Credit Default Dataset\n",
      "0.8193333333333334\n",
      "In sample Accuracy for Decision Tree classifier with max depth 5 in Credit Default dataset\n",
      "0.8246666666666667\n",
      "Out of sample Accuracy for Decision Tree classifier with max depth 5 in Credit Default Dataset\n",
      "0.8286666666666667\n",
      "In sample Accuracy for Decision Tree classifier with max depth 5 in Credit Default dataset\n",
      "0.8230740740740741\n",
      "Out of sample Accuracy for Decision Tree classifier with max depth 5 in Credit Default Dataset\n",
      "0.8176666666666667\n",
      "In sample Accuracy for Decision Tree classifier with max depth 5 in Credit Default dataset\n",
      "0.8251481481481482\n",
      "Out of sample Accuracy for Decision Tree classifier with max depth 5 in Credit Default Dataset\n",
      "0.8313333333333334\n",
      "In sample Accuracy for Decision Tree classifier with max depth 5 in Credit Default dataset\n",
      "0.8234814814814815\n",
      "[0.8246296296296296, 0.8243333333333334, 0.8233333333333334, 0.8250740740740741, 0.8237777777777778, 0.8252592592592592, 0.8246666666666667, 0.8230740740740741, 0.8251481481481482, 0.8234814814814815]\n",
      "[0.8223333333333334, 0.825, 0.8353333333333334, 0.81, 0.8296666666666667, 0.8103333333333333, 0.8193333333333334, 0.8286666666666667, 0.8176666666666667, 0.8313333333333334]\n"
     ]
    }
   ],
   "source": [
    "from sklearn.model_selection import train_test_split\n",
    "from sklearn.tree import DecisionTreeClassifier\n",
    "from sklearn.metrics import accuracy_score \n",
    "X= df.iloc[:, 0:23]\n",
    "y= df.iloc[:, 24]\n",
    "acc_train=[]\n",
    "acc_test=[]\n",
    "for i in list(range(1, 11)):\n",
    "    X_train,X_test,y_train,y_test=train_test_split(X,y,test_size=0.1,random_state=i)\n",
    "    tree = DecisionTreeClassifier(criterion='gini',max_depth=5,random_state=3)\n",
    "    tree.fit(X_train,y_train)\n",
    "\n",
    "    y_predict = tree.predict(X_test)\n",
    "    acc= accuracy_score(y_predict,y_test)\n",
    "    acc_test.append(acc)\n",
    "    print(\"Out of sample Accuracy for Decision Tree classifier with max depth 5 in Credit Default Dataset\")\n",
    "    print(acc)\n",
    "\n",
    "    y_predict = tree.predict(X_train)\n",
    "    acc1= accuracy_score(y_predict,y_train)\n",
    "    acc_train.append(acc1)\n",
    "    print(\"In sample Accuracy for Decision Tree classifier with max depth 5 in Credit Default dataset\")\n",
    "    print(acc1)\n",
    "\n",
    "print(acc_train)\n",
    "print(acc_test)"
   ]
  },
  {
   "cell_type": "code",
   "execution_count": 52,
   "metadata": {},
   "outputs": [
    {
     "name": "stdout",
     "output_type": "stream",
     "text": [
      "[1, 2, 3, 4, 5, 6, 7, 8, 9, 10]\n"
     ]
    },
    {
     "data": {
      "text/plain": [
       "<matplotlib.legend.Legend at 0x2eda77c8be0>"
      ]
     },
     "execution_count": 52,
     "metadata": {},
     "output_type": "execute_result"
    },
    {
     "data": {
      "image/png": "[encoded data removed]",
      "text/plain": [
       "<Figure size 432x288 with 1 Axes>"
      ]
     },
     "metadata": {
      "needs_background": "light"
     },
     "output_type": "display_data"
    }
   ],
   "source": [
    "import matplotlib.pyplot as plt\n",
    "x = list(range(1,11))\n",
    "print(x)\n",
    "plt.plot(x,acc_test)\n",
    "plt.plot(x,acc_train)\n",
    "plt.xlabel('Random State in split')\n",
    "plt.ylabel('Train Test accuracy')\n",
    "plt.legend(['Out of sample accuracy','Insample accuracy'])"
   ]
  },
  {
   "cell_type": "code",
   "execution_count": 54,
   "metadata": {},
   "outputs": [
    {
     "name": "stdout",
     "output_type": "stream",
     "text": [
      "Mean accuracy of test set\n",
      "0.8229666666666666\n",
      "Mean accuracy of train set\n",
      "0.8242777777777779\n",
      "Standard Deviation of test set\n",
      "0.008209005894612192\n",
      "Standard Deviation of train set\n",
      "0.0007653773377464182\n"
     ]
    }
   ],
   "source": [
    "import numpy as np\n",
    "mean_test= np.mean(acc_test)\n",
    "print('Mean accuracy of test set')\n",
    "print(mean_test)\n",
    "mean_train= np.mean(acc_train)\n",
    "print('Mean accuracy of train set')\n",
    "print(mean_train)\n",
    "\n",
    "std_test= np.std(acc_test)\n",
    "print('Standard Deviation of test set')\n",
    "print(std_test)\n",
    "std_train= np.std(acc_train)\n",
    "print('Standard Deviation of train set')\n",
    "print(std_train)\n",
    "\n",
    "\n"
   ]
  },
  {
   "cell_type": "code",
   "execution_count": 70,
   "metadata": {},
   "outputs": [
    {
     "name": "stdout",
     "output_type": "stream",
     "text": [
      "CV accuracy scores : [0.8162963  0.81888889 0.81666667 0.8162963  0.82444444 0.81703704\n",
      " 0.81518519 0.82592593 0.81666667 0.81592593]\n",
      "CV accuracy : 0.818 +/-  \n",
      "0.0035572912430182485\n",
      "Out of sample accuracy score\n",
      "0.8313333333333334\n"
     ]
    }
   ],
   "source": [
    "from sklearn.model_selection import StratifiedKFold\n",
    "kfold = StratifiedKFold(n_splits=10).split(X_train,y_train)\n",
    "from sklearn.model_selection import cross_val_score\n",
    "score=cross_val_score(estimator=tree,X=X_train,y=y_train,cv=10,n_jobs=1)\n",
    "print('CV accuracy scores : %s' % score)\n",
    "print('CV accuracy : %.3f +/-  ' % (np.mean(score)))\n",
    "print(np.std(score))\n",
    "print('Out of sample accuracy score')\n",
    "print(tree.score(X_test, y_test))\n",
    "\n"
   ]
  },
  {
   "cell_type": "code",
   "execution_count": 68,
   "metadata": {},
   "outputs": [
    {
     "name": "stdout",
     "output_type": "stream",
     "text": [
      "My name is {Akash Singh}\n",
      "My NetID is: {akashs5}\n",
      "I hereby certify that I have read the University policy on Academic Integrity and that I am not in violation.\n"
     ]
    }
   ],
   "source": [
    "print(\"My name is {Akash Singh}\")\n",
    "print(\"My NetID is: {akashs5}\")\n",
    "print(\"I hereby certify that I have read the University policy on Academic Integrity and that I am not in violation.\")\n"
   ]
  },
  {
   "cell_type": "code",
   "execution_count": null,
   "metadata": {},
   "outputs": [],
   "source": []
  }
 ],
 "metadata": {
  "kernelspec": {
   "display_name": "Python 3",
   "language": "python",
   "name": "python3"
  },
  "language_info": {
   "codemirror_mode": {
    "name": "ipython",
    "version": 3
   },
   "file_extension": ".py",
   "mimetype": "text/x-python",
   "name": "python",
   "nbconvert_exporter": "python",
   "pygments_lexer": "ipython3",
   "version": "3.8.3"
  }
 },
 "nbformat": 4,
 "nbformat_minor": 4
}
